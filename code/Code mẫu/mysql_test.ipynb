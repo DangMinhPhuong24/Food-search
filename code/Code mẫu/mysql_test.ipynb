{
 "cells": [
  {
   "cell_type": "code",
   "execution_count": 5,
   "metadata": {},
   "outputs": [],
   "source": [
    "import mysql.connector\n",
    "\n",
    "mydb = mysql.connector.connect(\n",
    "  host=\"localhost\",\n",
    "  user=\"root\",\n",
    "  password=\"******\",\n",
    "  database=\"mmdb_demo\"\n",
    ")\n",
    "\n",
    "mycursor = mydb.cursor()"
   ]
  },
  {
   "cell_type": "code",
   "execution_count": 7,
   "metadata": {},
   "outputs": [],
   "source": [
    "# sql = \"DROP TABLE IF EXISTS centroid\"\n",
    "# mycursor.execute(sql)\n",
    "# sql = \"DROP TABLE IF EXISTS features\"\n",
    "# mycursor.execute(sql)"
   ]
  },
  {
   "cell_type": "code",
   "execution_count": 10,
   "metadata": {},
   "outputs": [],
   "source": [
    "# create centroid tables\n",
    "sql = \"CREATE TABLE centroids (\\n\\tid INT AUTO_INCREMENT PRIMARY KEY\"\n",
    "for i in range(256):\n",
    "    sql += \",\\n\\tr_\" + str(i) + \" FLOAT\"\n",
    "for i in range(256):\n",
    "    sql += \",\\n\\tg_\" + str(i) + \" FLOAT\"\n",
    "for i in range(256):\n",
    "    sql += \",\\n\\tb_\" + str(i) + \" FLOAT\"\n",
    "sql += \"\\n);\"\n",
    "# print(sql)\n",
    "# mycursor.execute(sql)"
   ]
  },
  {
   "cell_type": "code",
   "execution_count": 8,
   "metadata": {},
   "outputs": [],
   "source": [
    "# create feature tables\n",
    "sql = \"CREATE TABLE features (\\n\\tid INT AUTO_INCREMENT PRIMARY KEY,\\n\"\n",
    "sql += \"\\tcentroid_id INT,\\n\"\n",
    "for i in range(256):\n",
    "    sql += \"\\tr_\" + str(i) + \" FLOAT,\\n\"\n",
    "for i in range(256):\n",
    "    sql += \"\\tg_\" + str(i) + \" FLOAT,\\n\"\n",
    "for i in range(256):\n",
    "    sql += \"\\tb_\" + str(i) + \" FLOAT,\\n\"\n",
    "sql += \"\\tlink VARCHAR(255),\\n\"\n",
    "sql += \"\\tFOREIGN KEY (centroid_id) REFERENCES centroids(id) ON DELETE SET NULL\\n);\"\n",
    "# print(sql)\n",
    "# mycursor.execute(sql)"
   ]
  },
  {
   "cell_type": "code",
   "execution_count": 9,
   "metadata": {},
   "outputs": [],
   "source": [
    "mydb.close()"
   ]
  }
 ],
 "metadata": {
  "kernelspec": {
   "display_name": "base",
   "language": "python",
   "name": "python3"
  },
  "language_info": {
   "codemirror_mode": {
    "name": "ipython",
    "version": 3
   },
   "file_extension": ".py",
   "mimetype": "text/x-python",
   "name": "python",
   "nbconvert_exporter": "python",
   "pygments_lexer": "ipython3",
   "version": "3.9.12"
  },
  "orig_nbformat": 4
 },
 "nbformat": 4,
 "nbformat_minor": 2
}
