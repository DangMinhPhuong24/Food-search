{
 "cells": [
  {
   "cell_type": "code",
   "execution_count": 25,
   "metadata": {},
   "outputs": [],
   "source": [
    "import numpy as np\n",
    "\n",
    "from rembg import remove\n",
    "from PIL import Image\n",
    "from skimage import feature"
   ]
  },
  {
   "cell_type": "code",
   "execution_count": 39,
   "metadata": {},
   "outputs": [],
   "source": [
    "# Đọc dữ liệu ảnh. \n",
    "in_img = Image.open(\"spaghetti.jpg\")\n",
    "# Xoá phần nền.\n",
    "out_img = remove(in_img)"
   ]
  },
  {
   "cell_type": "code",
   "execution_count": 21,
   "metadata": {},
   "outputs": [],
   "source": [
    "# in_img.show()\n",
    "# out_img.show()"
   ]
  },
  {
   "cell_type": "code",
   "execution_count": 41,
   "metadata": {},
   "outputs": [],
   "source": [
    "# Tạo nền trắng, ghép phần vật thể với phần nền mới\n",
    "white_bg = Image.new(\"RGBA\", size=in_img.size, color=(255, 255, 255))\n",
    "white_bg.paste(out_img, (0, 0), mask=out_img)"
   ]
  },
  {
   "cell_type": "code",
   "execution_count": null,
   "metadata": {},
   "outputs": [],
   "source": [
    "# white_bg.show()"
   ]
  },
  {
   "cell_type": "code",
   "execution_count": 28,
   "metadata": {},
   "outputs": [],
   "source": [
    "# Lấy 3 kênh màu r, g, b riêng biệt\n",
    "wr = white_bg.getdata(band=0)\n",
    "wg = white_bg.getdata(band=1)\n",
    "wb = white_bg.getdata(band=2)"
   ]
  },
  {
   "cell_type": "code",
   "execution_count": 29,
   "metadata": {},
   "outputs": [],
   "source": [
    "# Xác định biên bằng canny\n",
    "gray_img = white_bg.convert(\"L\")\n",
    "matrix = np.array(gray_img.getdata()).reshape(gray_img.size)\n",
    "edge_canny = feature.canny(matrix, low_threshold=10, high_threshold=30)\n",
    "height, width = white_bg.size"
   ]
  },
  {
   "cell_type": "code",
   "execution_count": 32,
   "metadata": {},
   "outputs": [
    {
     "name": "stdout",
     "output_type": "stream",
     "text": [
      "142255\n",
      "266388\n"
     ]
    }
   ],
   "source": [
    "# Tính số lượng pixel nằm ở khu vực nền\n",
    "co = 0\n",
    "for i in range(height):\n",
    "    if not any(edge_canny[i]):\n",
    "        co += width\n",
    "        continue\n",
    "    limit = 0\n",
    "    for j in range(width):\n",
    "        if edge_canny[i][j] == True:\n",
    "            limit = j\n",
    "            break\n",
    "        else:\n",
    "            co += 1\n",
    "    for j in range(width-1, limit, -1):\n",
    "        if edge_canny[i][j] == True:\n",
    "            # print(i, j)\n",
    "            break\n",
    "        else:\n",
    "            co += 1\n",
    "print(co)\n",
    "print(height * width)"
   ]
  },
  {
   "cell_type": "code",
   "execution_count": 9,
   "metadata": {},
   "outputs": [],
   "source": [
    "# Xây dựng biểu đồ tần suất cho 3 kênh màu của vật thể\n",
    "r_his = wr.histogram()\n",
    "g_his = wg.histogram()\n",
    "b_his = wb.histogram()\n",
    "bg_pixel = min(co, r_his[255], g_his[255], b_his[255])\n",
    "r_his[255] = r_his[255] - bg_pixel\n",
    "g_his[255] = g_his[255] - bg_pixel\n",
    "b_his[255] = b_his[255] - bg_pixel"
   ]
  },
  {
   "cell_type": "code",
   "execution_count": 11,
   "metadata": {},
   "outputs": [],
   "source": [
    "# Hàm tính biểu đồ tần suất tích luỹ\n",
    "def acc_his(arr):\n",
    "    new_arr = []\n",
    "    s = sum(arr)\n",
    "    v = 0\n",
    "    for i in range(len(arr)):\n",
    "        v += arr[i]\n",
    "        new_arr.append(v*100/s)\n",
    "    return new_arr"
   ]
  },
  {
   "cell_type": "code",
   "execution_count": 35,
   "metadata": {},
   "outputs": [
    {
     "name": "stdout",
     "output_type": "stream",
     "text": [
      "768\n"
     ]
    }
   ],
   "source": [
    "# Xây dựng đặc trưng cho ảnh\n",
    "feature = []\n",
    "feature += acc_his(r_his)\n",
    "feature += acc_his(g_his)\n",
    "feature += acc_his(b_his)\n",
    "print(len(feature))"
   ]
  }
 ],
 "metadata": {
  "kernelspec": {
   "display_name": "base",
   "language": "python",
   "name": "python3"
  },
  "language_info": {
   "codemirror_mode": {
    "name": "ipython",
    "version": 3
   },
   "file_extension": ".py",
   "mimetype": "text/x-python",
   "name": "python",
   "nbconvert_exporter": "python",
   "pygments_lexer": "ipython3",
   "version": "3.9.12"
  },
  "orig_nbformat": 4
 },
 "nbformat": 4,
 "nbformat_minor": 2
}
